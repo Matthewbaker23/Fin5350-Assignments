{
 "cells": [
  {
   "cell_type": "code",
   "execution_count": 4,
   "metadata": {},
   "outputs": [
    {
     "data": {
      "text/plain": [
       "5.1482964881871096"
      ]
     },
     "execution_count": 4,
     "metadata": {},
     "output_type": "execute_result"
    }
   ],
   "source": [
    "##BASIC ARITHMETIC ASIAN OPTION IN A MONTE CARLO WORLD\n",
    "import scipy as sp\n",
    "#DEF VARIABLES\n",
    "S = 41.0\n",
    "K = 40.0\n",
    "r = 0.08\n",
    "v = 0.30\n",
    "T = 1.0\n",
    "numsteps = 3\n",
    "numsims = 10000\n",
    "dt = T/numsteps\n",
    "call=sp.zeros([numsims], dtype=float)\n",
    "#NODES\n",
    "for j in range(0, numsims):\n",
    "    ST=S\n",
    "    total=0\n",
    "    for i in range(0,int(numsteps)):\n",
    "        e=sp.random.normal()\n",
    "        ST*=sp.exp((r-0.5*v*v)*dt+v*e*sp.sqrt(dt))\n",
    "        total+=ST\n",
    "    price_average=total/numsteps\n",
    "    call[j]=max(price_average-K,0)\n",
    "#PRICING\n",
    "call_price=sp.mean(call)*sp.exp(-r*T)\n",
    "call_price"
   ]
  },
  {
   "cell_type": "code",
   "execution_count": null,
   "metadata": {
    "collapsed": true
   },
   "outputs": [],
   "source": []
  }
 ],
 "metadata": {
  "kernelspec": {
   "display_name": "Python 3",
   "language": "python",
   "name": "python3"
  },
  "language_info": {
   "codemirror_mode": {
    "name": "ipython",
    "version": 3
   },
   "file_extension": ".py",
   "mimetype": "text/x-python",
   "name": "python",
   "nbconvert_exporter": "python",
   "pygments_lexer": "ipython3",
   "version": "3.6.1"
  }
 },
 "nbformat": 4,
 "nbformat_minor": 2
}
